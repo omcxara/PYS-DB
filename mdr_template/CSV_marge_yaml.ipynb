{
 "cells": [
  {
   "attachments": {},
   "cell_type": "markdown",
   "metadata": {},
   "source": [
    "### DB、MDR登録ファイルの作成\n",
    "\n",
    "20230313\n",
    "\n",
    "（1）CSVファイルからmetadataの抽出\n",
    "\n",
    "（2）dat & Mol faile の統合し、JSONファイルの作成\n",
    "\n",
    "（3）yamlファイルの作成\n",
    "\n",
    "\n",
    "20230313\n",
    "- Sample CSV (ex: yagyu_02_23.csv) -> Sample metada dict (sm_dict)\n",
    "- sm_dict -> read dat files, molfieles -> json file for datbase (yagyu_02_23.json)\n",
    "- sm_dict -> yaml file for MDR (yagyu_02_23.yaml) \n"
   ]
  },
  {
   "cell_type": "code",
   "execution_count": 1,
   "metadata": {},
   "outputs": [],
   "source": [
    "from pathlib import Path\n",
    "\n",
    "import pandas as pd\n",
    "import json\n",
    "\n",
    "from dbconv import meta_marge as mmarge\n",
    "import mdryaml.mdrmeta as mdy"
   ]
  },
  {
   "cell_type": "code",
   "execution_count": 2,
   "metadata": {},
   "outputs": [],
   "source": [
    "import warnings\n",
    "warnings.simplefilter('ignore')\n",
    "\n",
    "%load_ext autoreload\n",
    "%autoreload 2"
   ]
  },
  {
   "cell_type": "code",
   "execution_count": 4,
   "metadata": {},
   "outputs": [
    {
     "name": "stdout",
     "output_type": "stream",
     "text": [
      "0\n",
      "J355.400.mol\n",
      "mol file error\n",
      "1\n",
      "J355.400.mol\n",
      "mol file error\n",
      "2\n",
      "J355.400.mol\n",
      "mol file error\n",
      "3\n",
      "C60.mol\n",
      "mol file error\n",
      "4\n",
      "C60_Fc2nanosheet.mol\n",
      "mol file error\n",
      "Output Json file: C:\\Users\\yagyu\\OneDrive - 国立研究開発法人物質・材料研究機構\\Document\\PYS_MDR\\MDR_Data\\Wakahara_02_2023\\Wakahara_02_2023.json\n"
     ]
    }
   ],
   "source": [
    "# CSVが入っているホルダーの指定\n",
    "# metadataを抽出したJSONファイルを作成\n",
    "\n",
    "folder_path = Path(r\"C:\\Users\\yagyu\\OneDrive - 国立研究開発法人物質・材料研究機構\\Document\\PYS_MDR\\MDR_Data\\Wakahara_02_2023\")\n",
    "\n",
    "md,mdf,jpath = mmarge.marge_files(folder_path, filetype='csv')\n",
    "\n"
   ]
  },
  {
   "cell_type": "code",
   "execution_count": 8,
   "metadata": {},
   "outputs": [],
   "source": [
    "folder_path = Path(jpath)\n",
    "with folder_path.open(mode=\"rt\", encoding=\"utf-8\") as f:\n",
    "\tdata = json.load(f)\t\t# JSONのファイル内容をdictに変換する。\n",
    "\n",
    "folder_name = f'{folder_path.resolve().stem}'\n",
    "# print(folder_name)\n",
    "ymdict = mdy.MDR_meta(data, folder_name)\n",
    "# print(ymdict)\n",
    "_ = mdy.dic2yml(ymdict,save=True,file_name=f'{folder_path.parent / folder_name}.yaml')"
   ]
  },
  {
   "cell_type": "code",
   "execution_count": null,
   "metadata": {},
   "outputs": [],
   "source": []
  },
  {
   "cell_type": "code",
   "execution_count": 9,
   "metadata": {},
   "outputs": [
    {
     "name": "stdout",
     "output_type": "stream",
     "text": [
      "0\n",
      "\n",
      "mol file error\n",
      "1\n",
      "\n",
      "mol file error\n",
      "2\n",
      "\n",
      "mol file error\n",
      "3\n",
      "\n",
      "mol file error\n",
      "4\n",
      "\n",
      "mol file error\n",
      "5\n",
      "\n",
      "mol file error\n",
      "6\n",
      "\n",
      "mol file error\n",
      "7\n",
      "\n",
      "mol file error\n",
      "8\n",
      "\n",
      "mol file error\n",
      "9\n",
      "\n",
      "mol file error\n",
      "Output Json file: C:\\Users\\yagyu\\OneDrive - 国立研究開発法人物質・材料研究機構\\Document\\PYS_MDR\\MDR_Data\\yanagida_10_2022\\yanagida_10_2022.json\n"
     ]
    }
   ],
   "source": [
    "# CSVが入っているホルダーの指定\n",
    "# metadataを抽出したJSONファイルを作成\n",
    "\n",
    "folder_path = Path(r\"C:\\Users\\yagyu\\OneDrive - 国立研究開発法人物質・材料研究機構\\Document\\PYS_MDR\\MDR_Data\\yanagida_10_2022\")\n",
    "\n",
    "md,mdf,jpath = mmarge.marge_files(folder_path, filetype='csv')\n",
    "\n",
    "folder_path = Path(jpath)\n",
    "with folder_path.open(mode=\"rt\", encoding=\"utf-8\") as f:\n",
    "\tdata = json.load(f)\t\t# JSONのファイル内容をdictに変換する。\n",
    "\n",
    "folder_name = f'{folder_path.resolve().stem}'\n",
    "# print(folder_name)\n",
    "ymdict = mdy.MDR_meta(data, folder_name)\n",
    "# print(ymdict)\n",
    "_ = mdy.dic2yml(ymdict,save=True,file_name=f'{folder_path.parent / folder_name}.yaml')"
   ]
  }
 ],
 "metadata": {
  "kernelspec": {
   "display_name": "Python 3.7.1 ('base')",
   "language": "python",
   "name": "python3"
  },
  "language_info": {
   "codemirror_mode": {
    "name": "ipython",
    "version": 3
   },
   "file_extension": ".py",
   "mimetype": "text/x-python",
   "name": "python",
   "nbconvert_exporter": "python",
   "pygments_lexer": "ipython3",
   "version": "3.7.1"
  },
  "orig_nbformat": 4,
  "vscode": {
   "interpreter": {
    "hash": "b66da06cecefeedcb0375b3971526220e456f8615e08c7fc3d59ab7f27c37be5"
   }
  }
 },
 "nbformat": 4,
 "nbformat_minor": 2
}
